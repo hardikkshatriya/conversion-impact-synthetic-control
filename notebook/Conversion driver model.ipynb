{
 "cells": [
  {
   "cell_type": "code",
   "execution_count": null,
   "id": "422a1db4",
   "metadata": {},
   "outputs": [],
   "source": [
    "# Add this at the top\n",
    "import sys\n",
    "sys.path.append('./source')\n",
    "\n",
    "from source.feature_selection import select_top_features\n",
    "from source.propensity_model import train_propensity_model\n",
    "from source.weighting import compute_iptw\n",
    "from source.balance import calculate_smd\n",
    "from source.causal_estimation import estimate_ate\n",
    "\n",
    "import pandas as pd\n",
    "import numpy as np\n",
    "\n",
    "# Simulate data\n",
    "np.random.seed(42)\n",
    "df = pd.DataFrame({\n",
    "    'product_rating': np.random.normal(4, 0.5, 1000),\n",
    "    'price_index': np.random.normal(1, 0.2, 1000),\n",
    "    'page_views': np.random.randint(1, 20, 1000),\n",
    "    'fulfilled_by_platform': np.random.randint(0, 2, 1000),\n",
    "    'customer_cohort': np.random.choice([0, 1], 1000),\n",
    "    'treatment': np.random.randint(0, 2, 1000),\n",
    "    'converted': np.random.randint(0, 2, 1000)\n",
    "})\n",
    "\n",
    "X = df.drop(columns=['treatment', 'converted'])\n",
    "y_treatment = df['treatment']\n",
    "y_outcome = df['converted']\n",
    "\n",
    "# Feature selection\n",
    "top_features = select_top_features(X, y_treatment)\n",
    "X_selected = X[top_features]\n",
    "\n",
    "# Propensity model\n",
    "model, p_scores = train_propensity_model(X_selected, y_treatment)\n",
    "\n",
    "# IPTW weighting\n",
    "weights = compute_iptw(y_treatment, p_scores)\n",
    "\n",
    "# Balance check\n",
    "smd = calculate_smd(X_selected, y_treatment, weights)\n",
    "print(\"SMD after weighting:\", smd)\n",
    "\n",
    "# ATE estimation\n",
    "ate = estimate_ate(y_outcome, y_treatment, weights)\n",
    "print(\"Estimated ATE:\", ate)"
   ]
  }
 ],
 "metadata": {
  "language_info": {
   "name": "python"
  }
 },
 "nbformat": 4,
 "nbformat_minor": 5
}
